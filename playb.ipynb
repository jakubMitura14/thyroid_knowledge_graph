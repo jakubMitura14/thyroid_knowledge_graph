{
 "cells": [
  {
   "cell_type": "code",
   "execution_count": 1,
   "metadata": {},
   "outputs": [],
   "source": [
    "import scipdf\n",
    "article_dict = scipdf.parse_pdf_to_dict('/media/jm/hddData/projects/thyroid_knowledge_graph/data/old_guidelines.pdf') # return dictionary"
   ]
  },
  {
   "cell_type": "code",
   "execution_count": 13,
   "metadata": {},
   "outputs": [
    {
     "data": {
      "text/plain": [
       "'Whilst RAIT is generally well-tolerated if appropriate single and cumulative activities are used and precautions employed, the procedure does have a number of potential early and late sequelae. These sequelae and potential prophylactic and treatment interventions are described in Table 1. Characterisation of the risks of RAIT remains ongoing; for example, an overview of the radiation absorbed dose to normal organs after RAIT was published recently [86].'"
      ]
     },
     "execution_count": 13,
     "metadata": {},
     "output_type": "execute_result"
    }
   ],
   "source": [
    "list(map( lambda el: el['heading'],article_dict['sections']))\n",
    "article_dict['sections'][15]['text']"
   ]
  },
  {
   "cell_type": "code",
   "execution_count": 15,
   "metadata": {},
   "outputs": [],
   "source": [
    "import json\n",
    "pp=\"/media/jm/hddData/projects/thyroid_knowledge_graph/preprocessed/old_guidelines.json\"\n",
    "with open(pp, 'w') as file:\n",
    "    json.dump(article_dict, file)\n"
   ]
  },
  {
   "cell_type": "code",
   "execution_count": null,
   "metadata": {},
   "outputs": [],
   "source": []
  }
 ],
 "metadata": {
  "kernelspec": {
   "display_name": "Python 3",
   "language": "python",
   "name": "python3"
  },
  "language_info": {
   "codemirror_mode": {
    "name": "ipython",
    "version": 3
   },
   "file_extension": ".py",
   "mimetype": "text/x-python",
   "name": "python",
   "nbconvert_exporter": "python",
   "pygments_lexer": "ipython3",
   "version": "3.10.12"
  }
 },
 "nbformat": 4,
 "nbformat_minor": 2
}
