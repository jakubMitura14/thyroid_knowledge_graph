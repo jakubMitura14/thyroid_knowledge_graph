{
 "cells": [
  {
   "cell_type": "code",
   "execution_count": 2,
   "metadata": {},
   "outputs": [
    {
     "name": "stdout",
     "output_type": "stream",
     "text": [
      "var3=var3+ ((source_arr[Int(round(shared_arr[threadIdx().x,1]+((-0.50001)))),Int(round(shared_arr[threadIdx().x,2]+((-0.50001)))),Int(round(shared_arr[threadIdx().x,3]+((-0.50001))))]-var2 )^2)*(1/((((shared_arr[threadIdx().x,1]-round(shared_arr[threadIdx().x,1]+((-0.50001)) ))^2+(shared_arr[threadIdx().x,2]-round(shared_arr[threadIdx().x,2] +((-0.50001))))^2+(shared_arr[threadIdx().x,3]-round(shared_arr[threadIdx().x,3]+((-0.50001))))^2)^2  )+0.00000001))\n",
      "var3=var3+ ((source_arr[Int(round(shared_arr[threadIdx().x,1]+((-0.50001)))),Int(round(shared_arr[threadIdx().x,2]+((-0.50001)))),Int(round(shared_arr[threadIdx().x,3]+((0.0))))]-var2 )^2)*(1/((((shared_arr[threadIdx().x,1]-round(shared_arr[threadIdx().x,1]+((-0.50001)) ))^2+(shared_arr[threadIdx().x,2]-round(shared_arr[threadIdx().x,2] +((-0.50001))))^2+(shared_arr[threadIdx().x,3]-round(shared_arr[threadIdx().x,3]+((0.0))))^2)^2  )+0.00000001))\n",
      "var3=var3+ ((source_arr[Int(round(shared_arr[threadIdx().x,1]+((-0.50001)))),Int(round(shared_arr[threadIdx().x,2]+((-0.50001)))),Int(round(shared_arr[threadIdx().x,3]+((0.50001))))]-var2 )^2)*(1/((((shared_arr[threadIdx().x,1]-round(shared_arr[threadIdx().x,1]+((-0.50001)) ))^2+(shared_arr[threadIdx().x,2]-round(shared_arr[threadIdx().x,2] +((-0.50001))))^2+(shared_arr[threadIdx().x,3]-round(shared_arr[threadIdx().x,3]+((0.50001))))^2)^2  )+0.00000001))\n",
      "var3=var3+ ((source_arr[Int(round(shared_arr[threadIdx().x,1]+((-0.50001)))),Int(round(shared_arr[threadIdx().x,2]+((0.0)))),Int(round(shared_arr[threadIdx().x,3]+((-0.50001))))]-var2 )^2)*(1/((((shared_arr[threadIdx().x,1]-round(shared_arr[threadIdx().x,1]+((-0.50001)) ))^2+(shared_arr[threadIdx().x,2]-round(shared_arr[threadIdx().x,2] +((0.0))))^2+(shared_arr[threadIdx().x,3]-round(shared_arr[threadIdx().x,3]+((-0.50001))))^2)^2  )+0.00000001))\n",
      "var3=var3+ ((source_arr[Int(round(shared_arr[threadIdx().x,1]+((-0.50001)))),Int(round(shared_arr[threadIdx().x,2]+((0.0)))),Int(round(shared_arr[threadIdx().x,3]+((0.0))))]-var2 )^2)*(1/((((shared_arr[threadIdx().x,1]-round(shared_arr[threadIdx().x,1]+((-0.50001)) ))^2+(shared_arr[threadIdx().x,2]-round(shared_arr[threadIdx().x,2] +((0.0))))^2+(shared_arr[threadIdx().x,3]-round(shared_arr[threadIdx().x,3]+((0.0))))^2)^2  )+0.00000001))\n",
      "var3=var3+ ((source_arr[Int(round(shared_arr[threadIdx().x,1]+((-0.50001)))),Int(round(shared_arr[threadIdx().x,2]+((0.0)))),Int(round(shared_arr[threadIdx().x,3]+((0.50001))))]-var2 )^2)*(1/((((shared_arr[threadIdx().x,1]-round(shared_arr[threadIdx().x,1]+((-0.50001)) ))^2+(shared_arr[threadIdx().x,2]-round(shared_arr[threadIdx().x,2] +((0.0))))^2+(shared_arr[threadIdx().x,3]-round(shared_arr[threadIdx().x,3]+((0.50001))))^2)^2  )+0.00000001))\n",
      "var3=var3+ ((source_arr[Int(round(shared_arr[threadIdx().x,1]+((-0.50001)))),Int(round(shared_arr[threadIdx().x,2]+((0.50001)))),Int(round(shared_arr[threadIdx().x,3]+((-0.50001))))]-var2 )^2)*(1/((((shared_arr[threadIdx().x,1]-round(shared_arr[threadIdx().x,1]+((-0.50001)) ))^2+(shared_arr[threadIdx().x,2]-round(shared_arr[threadIdx().x,2] +((0.50001))))^2+(shared_arr[threadIdx().x,3]-round(shared_arr[threadIdx().x,3]+((-0.50001))))^2)^2  )+0.00000001))\n",
      "var3=var3+ ((source_arr[Int(round(shared_arr[threadIdx().x,1]+((-0.50001)))),Int(round(shared_arr[threadIdx().x,2]+((0.50001)))),Int(round(shared_arr[threadIdx().x,3]+((0.0))))]-var2 )^2)*(1/((((shared_arr[threadIdx().x,1]-round(shared_arr[threadIdx().x,1]+((-0.50001)) ))^2+(shared_arr[threadIdx().x,2]-round(shared_arr[threadIdx().x,2] +((0.50001))))^2+(shared_arr[threadIdx().x,3]-round(shared_arr[threadIdx().x,3]+((0.0))))^2)^2  )+0.00000001))\n",
      "var3=var3+ ((source_arr[Int(round(shared_arr[threadIdx().x,1]+((-0.50001)))),Int(round(shared_arr[threadIdx().x,2]+((0.50001)))),Int(round(shared_arr[threadIdx().x,3]+((0.50001))))]-var2 )^2)*(1/((((shared_arr[threadIdx().x,1]-round(shared_arr[threadIdx().x,1]+((-0.50001)) ))^2+(shared_arr[threadIdx().x,2]-round(shared_arr[threadIdx().x,2] +((0.50001))))^2+(shared_arr[threadIdx().x,3]-round(shared_arr[threadIdx().x,3]+((0.50001))))^2)^2  )+0.00000001))\n",
      "var3=var3+ ((source_arr[Int(round(shared_arr[threadIdx().x,1]+((0.0)))),Int(round(shared_arr[threadIdx().x,2]+((-0.50001)))),Int(round(shared_arr[threadIdx().x,3]+((-0.50001))))]-var2 )^2)*(1/((((shared_arr[threadIdx().x,1]-round(shared_arr[threadIdx().x,1]+((0.0)) ))^2+(shared_arr[threadIdx().x,2]-round(shared_arr[threadIdx().x,2] +((-0.50001))))^2+(shared_arr[threadIdx().x,3]-round(shared_arr[threadIdx().x,3]+((-0.50001))))^2)^2  )+0.00000001))\n",
      "var3=var3+ ((source_arr[Int(round(shared_arr[threadIdx().x,1]+((0.0)))),Int(round(shared_arr[threadIdx().x,2]+((-0.50001)))),Int(round(shared_arr[threadIdx().x,3]+((0.0))))]-var2 )^2)*(1/((((shared_arr[threadIdx().x,1]-round(shared_arr[threadIdx().x,1]+((0.0)) ))^2+(shared_arr[threadIdx().x,2]-round(shared_arr[threadIdx().x,2] +((-0.50001))))^2+(shared_arr[threadIdx().x,3]-round(shared_arr[threadIdx().x,3]+((0.0))))^2)^2  )+0.00000001))\n",
      "var3=var3+ ((source_arr[Int(round(shared_arr[threadIdx().x,1]+((0.0)))),Int(round(shared_arr[threadIdx().x,2]+((-0.50001)))),Int(round(shared_arr[threadIdx().x,3]+((0.50001))))]-var2 )^2)*(1/((((shared_arr[threadIdx().x,1]-round(shared_arr[threadIdx().x,1]+((0.0)) ))^2+(shared_arr[threadIdx().x,2]-round(shared_arr[threadIdx().x,2] +((-0.50001))))^2+(shared_arr[threadIdx().x,3]-round(shared_arr[threadIdx().x,3]+((0.50001))))^2)^2  )+0.00000001))\n",
      "var3=var3+ ((source_arr[Int(round(shared_arr[threadIdx().x,1]+((0.0)))),Int(round(shared_arr[threadIdx().x,2]+((0.0)))),Int(round(shared_arr[threadIdx().x,3]+((-0.50001))))]-var2 )^2)*(1/((((shared_arr[threadIdx().x,1]-round(shared_arr[threadIdx().x,1]+((0.0)) ))^2+(shared_arr[threadIdx().x,2]-round(shared_arr[threadIdx().x,2] +((0.0))))^2+(shared_arr[threadIdx().x,3]-round(shared_arr[threadIdx().x,3]+((-0.50001))))^2)^2  )+0.00000001))\n",
      "var3=var3+ ((source_arr[Int(round(shared_arr[threadIdx().x,1]+((0.0)))),Int(round(shared_arr[threadIdx().x,2]+((0.0)))),Int(round(shared_arr[threadIdx().x,3]+((0.0))))]-var2 )^2)*(1/((((shared_arr[threadIdx().x,1]-round(shared_arr[threadIdx().x,1]+((0.0)) ))^2+(shared_arr[threadIdx().x,2]-round(shared_arr[threadIdx().x,2] +((0.0))))^2+(shared_arr[threadIdx().x,3]-round(shared_arr[threadIdx().x,3]+((0.0))))^2)^2  )+0.00000001))\n",
      "var3=var3+ ((source_arr[Int(round(shared_arr[threadIdx().x,1]+((0.0)))),Int(round(shared_arr[threadIdx().x,2]+((0.0)))),Int(round(shared_arr[threadIdx().x,3]+((0.50001))))]-var2 )^2)*(1/((((shared_arr[threadIdx().x,1]-round(shared_arr[threadIdx().x,1]+((0.0)) ))^2+(shared_arr[threadIdx().x,2]-round(shared_arr[threadIdx().x,2] +((0.0))))^2+(shared_arr[threadIdx().x,3]-round(shared_arr[threadIdx().x,3]+((0.50001))))^2)^2  )+0.00000001))\n",
      "var3=var3+ ((source_arr[Int(round(shared_arr[threadIdx().x,1]+((0.0)))),Int(round(shared_arr[threadIdx().x,2]+((0.50001)))),Int(round(shared_arr[threadIdx().x,3]+((-0.50001))))]-var2 )^2)*(1/((((shared_arr[threadIdx().x,1]-round(shared_arr[threadIdx().x,1]+((0.0)) ))^2+(shared_arr[threadIdx().x,2]-round(shared_arr[threadIdx().x,2] +((0.50001))))^2+(shared_arr[threadIdx().x,3]-round(shared_arr[threadIdx().x,3]+((-0.50001))))^2)^2  )+0.00000001))\n",
      "var3=var3+ ((source_arr[Int(round(shared_arr[threadIdx().x,1]+((0.0)))),Int(round(shared_arr[threadIdx().x,2]+((0.50001)))),Int(round(shared_arr[threadIdx().x,3]+((0.0))))]-var2 )^2)*(1/((((shared_arr[threadIdx().x,1]-round(shared_arr[threadIdx().x,1]+((0.0)) ))^2+(shared_arr[threadIdx().x,2]-round(shared_arr[threadIdx().x,2] +((0.50001))))^2+(shared_arr[threadIdx().x,3]-round(shared_arr[threadIdx().x,3]+((0.0))))^2)^2  )+0.00000001))\n",
      "var3=var3+ ((source_arr[Int(round(shared_arr[threadIdx().x,1]+((0.0)))),Int(round(shared_arr[threadIdx().x,2]+((0.50001)))),Int(round(shared_arr[threadIdx().x,3]+((0.50001))))]-var2 )^2)*(1/((((shared_arr[threadIdx().x,1]-round(shared_arr[threadIdx().x,1]+((0.0)) ))^2+(shared_arr[threadIdx().x,2]-round(shared_arr[threadIdx().x,2] +((0.50001))))^2+(shared_arr[threadIdx().x,3]-round(shared_arr[threadIdx().x,3]+((0.50001))))^2)^2  )+0.00000001))\n",
      "var3=var3+ ((source_arr[Int(round(shared_arr[threadIdx().x,1]+((0.50001)))),Int(round(shared_arr[threadIdx().x,2]+((-0.50001)))),Int(round(shared_arr[threadIdx().x,3]+((-0.50001))))]-var2 )^2)*(1/((((shared_arr[threadIdx().x,1]-round(shared_arr[threadIdx().x,1]+((0.50001)) ))^2+(shared_arr[threadIdx().x,2]-round(shared_arr[threadIdx().x,2] +((-0.50001))))^2+(shared_arr[threadIdx().x,3]-round(shared_arr[threadIdx().x,3]+((-0.50001))))^2)^2  )+0.00000001))\n",
      "var3=var3+ ((source_arr[Int(round(shared_arr[threadIdx().x,1]+((0.50001)))),Int(round(shared_arr[threadIdx().x,2]+((-0.50001)))),Int(round(shared_arr[threadIdx().x,3]+((0.0))))]-var2 )^2)*(1/((((shared_arr[threadIdx().x,1]-round(shared_arr[threadIdx().x,1]+((0.50001)) ))^2+(shared_arr[threadIdx().x,2]-round(shared_arr[threadIdx().x,2] +((-0.50001))))^2+(shared_arr[threadIdx().x,3]-round(shared_arr[threadIdx().x,3]+((0.0))))^2)^2  )+0.00000001))\n",
      "var3=var3+ ((source_arr[Int(round(shared_arr[threadIdx().x,1]+((0.50001)))),Int(round(shared_arr[threadIdx().x,2]+((-0.50001)))),Int(round(shared_arr[threadIdx().x,3]+((0.50001))))]-var2 )^2)*(1/((((shared_arr[threadIdx().x,1]-round(shared_arr[threadIdx().x,1]+((0.50001)) ))^2+(shared_arr[threadIdx().x,2]-round(shared_arr[threadIdx().x,2] +((-0.50001))))^2+(shared_arr[threadIdx().x,3]-round(shared_arr[threadIdx().x,3]+((0.50001))))^2)^2  )+0.00000001))\n",
      "var3=var3+ ((source_arr[Int(round(shared_arr[threadIdx().x,1]+((0.50001)))),Int(round(shared_arr[threadIdx().x,2]+((0.0)))),Int(round(shared_arr[threadIdx().x,3]+((-0.50001))))]-var2 )^2)*(1/((((shared_arr[threadIdx().x,1]-round(shared_arr[threadIdx().x,1]+((0.50001)) ))^2+(shared_arr[threadIdx().x,2]-round(shared_arr[threadIdx().x,2] +((0.0))))^2+(shared_arr[threadIdx().x,3]-round(shared_arr[threadIdx().x,3]+((-0.50001))))^2)^2  )+0.00000001))\n",
      "var3=var3+ ((source_arr[Int(round(shared_arr[threadIdx().x,1]+((0.50001)))),Int(round(shared_arr[threadIdx().x,2]+((0.0)))),Int(round(shared_arr[threadIdx().x,3]+((0.0))))]-var2 )^2)*(1/((((shared_arr[threadIdx().x,1]-round(shared_arr[threadIdx().x,1]+((0.50001)) ))^2+(shared_arr[threadIdx().x,2]-round(shared_arr[threadIdx().x,2] +((0.0))))^2+(shared_arr[threadIdx().x,3]-round(shared_arr[threadIdx().x,3]+((0.0))))^2)^2  )+0.00000001))\n",
      "var3=var3+ ((source_arr[Int(round(shared_arr[threadIdx().x,1]+((0.50001)))),Int(round(shared_arr[threadIdx().x,2]+((0.0)))),Int(round(shared_arr[threadIdx().x,3]+((0.50001))))]-var2 )^2)*(1/((((shared_arr[threadIdx().x,1]-round(shared_arr[threadIdx().x,1]+((0.50001)) ))^2+(shared_arr[threadIdx().x,2]-round(shared_arr[threadIdx().x,2] +((0.0))))^2+(shared_arr[threadIdx().x,3]-round(shared_arr[threadIdx().x,3]+((0.50001))))^2)^2  )+0.00000001))\n",
      "var3=var3+ ((source_arr[Int(round(shared_arr[threadIdx().x,1]+((0.50001)))),Int(round(shared_arr[threadIdx().x,2]+((0.50001)))),Int(round(shared_arr[threadIdx().x,3]+((-0.50001))))]-var2 )^2)*(1/((((shared_arr[threadIdx().x,1]-round(shared_arr[threadIdx().x,1]+((0.50001)) ))^2+(shared_arr[threadIdx().x,2]-round(shared_arr[threadIdx().x,2] +((0.50001))))^2+(shared_arr[threadIdx().x,3]-round(shared_arr[threadIdx().x,3]+((-0.50001))))^2)^2  )+0.00000001))\n",
      "var3=var3+ ((source_arr[Int(round(shared_arr[threadIdx().x,1]+((0.50001)))),Int(round(shared_arr[threadIdx().x,2]+((0.50001)))),Int(round(shared_arr[threadIdx().x,3]+((0.0))))]-var2 )^2)*(1/((((shared_arr[threadIdx().x,1]-round(shared_arr[threadIdx().x,1]+((0.50001)) ))^2+(shared_arr[threadIdx().x,2]-round(shared_arr[threadIdx().x,2] +((0.50001))))^2+(shared_arr[threadIdx().x,3]-round(shared_arr[threadIdx().x,3]+((0.0))))^2)^2  )+0.00000001))\n",
      "var3=var3+ ((source_arr[Int(round(shared_arr[threadIdx().x,1]+((0.50001)))),Int(round(shared_arr[threadIdx().x,2]+((0.50001)))),Int(round(shared_arr[threadIdx().x,3]+((0.50001))))]-var2 )^2)*(1/((((shared_arr[threadIdx().x,1]-round(shared_arr[threadIdx().x,1]+((0.50001)) ))^2+(shared_arr[threadIdx().x,2]-round(shared_arr[threadIdx().x,2] +((0.50001))))^2+(shared_arr[threadIdx().x,3]-round(shared_arr[threadIdx().x,3]+((0.50001))))^2)^2  )+0.00000001))\n"
     ]
    }
   ],
   "source": [
    "#local variance\n",
    "for a in [-0.50001,0.0,0.50001]:\n",
    "  for b in [-0.50001,0.0,0.50001]:\n",
    "    for c in [-0.50001,0.0,0.50001]:\n",
    "      print(f\"\"\"var3=var3+ ((source_arr[Int(round(shared_arr[threadIdx().x,1]+(({a})))),Int(round(shared_arr[threadIdx().x,2]+(({b})))),Int(round(shared_arr[threadIdx().x,3]+(({c}))))]-var2 )^2)*(1/((((shared_arr[threadIdx().x,1]-round(shared_arr[threadIdx().x,1]+(({a})) ))^2+(shared_arr[threadIdx().x,2]-round(shared_arr[threadIdx().x,2] +(({b}))))^2+(shared_arr[threadIdx().x,3]-round(shared_arr[threadIdx().x,3]+(({c}))))^2)^2  )+0.00000001))\"\"\")"
   ]
  },
  {
   "cell_type": "code",
   "execution_count": null,
   "metadata": {},
   "outputs": [],
   "source": [
    "#local weighted interpolation\n",
    "for a in [-0.50001,0.0,0.50001]:\n",
    "  for b in [-0.50001,0.0,0.50001]:\n",
    "    for c in [-0.50001,0.0,0.50001]:\n",
    "      print(f\"\"\"var3=(1/((((shared_arr[threadIdx().x,1]-round(shared_arr[threadIdx().x,1]+(({a})) ))^2+(shared_arr[threadIdx().x,2]-round(shared_arr[threadIdx().x,2] +(({b}))))^2+(shared_arr[threadIdx().x,3]-round(shared_arr[threadIdx().x,3]+(({c}))))^2)^2  )+0.00000001));  var1=var1+var3 ;   var2=var2+(source_arr[Int(round(shared_arr[threadIdx().x,1]+(({a})))),Int(round(shared_arr[threadIdx().x,2]+(({b})))),Int(round(shared_arr[threadIdx().x,3]+(({c}))))]*(var3 ))\"\"\")"
   ]
  }
 ],
 "metadata": {
  "kernelspec": {
   "display_name": "Python 3",
   "language": "python",
   "name": "python3"
  },
  "language_info": {
   "codemirror_mode": {
    "name": "ipython",
    "version": 3
   },
   "file_extension": ".py",
   "mimetype": "text/x-python",
   "name": "python",
   "nbconvert_exporter": "python",
   "pygments_lexer": "ipython3",
   "version": "3.10.12"
  }
 },
 "nbformat": 4,
 "nbformat_minor": 2
}
