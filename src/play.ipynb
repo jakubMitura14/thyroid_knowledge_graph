{
 "cells": [
  {
   "cell_type": "code",
   "execution_count": 1,
   "metadata": {},
   "outputs": [],
   "source": [
    "import json\n",
    "from habanero import Crossref\n",
    "# path_old=\"/workspaces/thyroid_knowledge_graph/preprocessed/old_guidelines.json\"\n",
    "# with open(path_old, 'r') as file:\n",
    "#     data = json.load(file)\n",
    "\n",
    "# print(data)\n",
    "# pip install https://s3-us-west-2.amazonaws.com/ai2-s2-scispacy/releases/v0.5.4/en_core_sci_scibert-0.5.4.tar.gz\n",
    " "
   ]
  },
  {
   "cell_type": "code",
   "execution_count": 14,
   "metadata": {},
   "outputs": [
    {
     "name": "stdout",
     "output_type": "stream",
     "text": [
      "error\n",
      "error\n"
     ]
    }
   ],
   "source": [
    "import os\n",
    "\n",
    "folder_path = \"/workspaces/thyroid_knowledge_graph/preprocessed\"\n",
    "file_paths = []\n",
    "\n",
    "for root, dirs, files in os.walk(folder_path):\n",
    "    for file in files:\n",
    "        file_path = os.path.join(root, file)\n",
    "        file_paths.append(file_path)\n",
    "# print(file_paths)\n",
    "\n",
    "res=[]\n",
    "for file_path in file_paths:\n",
    "    with open(file_path, 'r') as file:\n",
    "        try:\n",
    "            data = json.load(file)\n",
    "            sections= data['sections']\n",
    "            for sect in sections:\n",
    "                if(len(sect['text'])>20):\n",
    "                    res.append(sect['text'])\n",
    "        except:\n",
    "            print(\"error\")\n",
    "            continue            \n",
    "res=\"\\n\".join(res)   \n",
    "res_path=\"/workspaces/thyroid_knowledge_graph/data/joined.txt\"\n",
    "\n",
    "with open(res_path, 'w') as file:\n",
    "    file.write(res)\n",
    "\n"
   ]
  },
  {
   "cell_type": "code",
   "execution_count": 13,
   "metadata": {},
   "outputs": [
    {
     "name": "stdout",
     "output_type": "stream",
     "text": [
      "None\n"
     ]
    }
   ],
   "source": [
    "with open(\"/workspaces/thyroid_knowledge_graph/preprocessed/Diagnostic Electromyography for Unilateral Vocal Fold Dysmotility.json\", 'r') as file:\n",
    "    data = json.load(file)\n",
    "# for i in data['sections']:\n",
    "#     print(i['text'])\n",
    "\n",
    "\n",
    "print(data)\n",
    "# example=data['sections'][3]['text']\n",
    "# example"
   ]
  },
  {
   "cell_type": "code",
   "execution_count": 2,
   "metadata": {},
   "outputs": [
    {
     "data": {
      "text/plain": [
       "'Long-term outcome of 444 patients with distant metastases from papillary and follicular thyroid carcinoma: benefits and limits of radioiodine therapy'"
      ]
     },
     "execution_count": 2,
     "metadata": {},
     "output_type": "execute_result"
    }
   ],
   "source": [
    "data[\"references\"][3]['title']"
   ]
  },
  {
   "cell_type": "code",
   "execution_count": 3,
   "metadata": {},
   "outputs": [
    {
     "name": "stdout",
     "output_type": "stream",
     "text": [
      "10.1016/s0084-3873(08)70297-9\n"
     ]
    }
   ],
   "source": [
    "cr = Crossref()\n",
    "\n",
    "result = cr.works(query = data[\"references\"][3]['title'])\n",
    "\n",
    "print(result['message']['items'][0]['DOI'])"
   ]
  },
  {
   "cell_type": "code",
   "execution_count": 5,
   "metadata": {},
   "outputs": [],
   "source": [
    "from paperscraper.pdf import save_pdf\n",
    "paper_data = {'doi': \"10.48550/arXiv.2207.03928\"}\n",
    "save_pdf(paper_data, filepath='/workspaces/thyroid_knowledge_graph/data/auto_downloaded/gt4sd_paper.pdf')"
   ]
  },
  {
   "cell_type": "code",
   "execution_count": null,
   "metadata": {},
   "outputs": [],
   "source": [
    "python3 -m PyPaperBot --doi=\"10.1016/s0084-3873(08)70297-9\" --dwn-dir=\"/workspaces/thyroid_knowledge_graph/data/auto_downloaded/b\""
   ]
  },
  {
   "cell_type": "code",
   "execution_count": 15,
   "metadata": {},
   "outputs": [
    {
     "name": "stdout",
     "output_type": "stream",
     "text": [
      "https://s3-us-west-2.amazonaws.com/ai2-s2-scispacy/data/linkers/2023-04-23/umls/tfidf_vectors_sparse.npz not found in cache, downloading to /tmp/tmpk0sdxs_l\n"
     ]
    },
    {
     "name": "stderr",
     "output_type": "stream",
     "text": [
      "100%|██████████| 492M/492M [00:38<00:00, 13.6MiB/s]    \n"
     ]
    },
    {
     "name": "stdout",
     "output_type": "stream",
     "text": [
      "Finished download, copying /tmp/tmpk0sdxs_l to cache at /home/sliceruser/.scispacy/datasets/2b79923846fb52e62d686f2db846392575c8eb5b732d9d26cd3ca9378c622d40.87bd52d0f0ee055c1e455ef54ba45149d188552f07991b765da256a1b512ca0b.tfidf_vectors_sparse.npz\n",
      "https://s3-us-west-2.amazonaws.com/ai2-s2-scispacy/data/linkers/2023-04-23/umls/nmslib_index.bin not found in cache, downloading to /tmp/tmp6wgn9krk\n"
     ]
    },
    {
     "name": "stderr",
     "output_type": "stream",
     "text": [
      "100%|██████████| 724M/724M [00:54<00:00, 14.0MiB/s]   \n"
     ]
    },
    {
     "name": "stdout",
     "output_type": "stream",
     "text": [
      "Finished download, copying /tmp/tmp6wgn9krk to cache at /home/sliceruser/.scispacy/datasets/7e8e091ec80370b87b1652f461eae9d926e543a403a69c1f0968f71157322c25.6d801a1e14867953e36258b0e19a23723ae84b0abd2a723bdd3574c3e0c873b4.nmslib_index.bin\n",
      "https://s3-us-west-2.amazonaws.com/ai2-s2-scispacy/data/linkers/2023-04-23/umls/tfidf_vectorizer.joblib not found in cache, downloading to /tmp/tmp0ck1aiw5\n"
     ]
    },
    {
     "name": "stderr",
     "output_type": "stream",
     "text": [
      "100%|██████████| 1.32M/1.32M [00:01<00:00, 1.09MiB/s]\n"
     ]
    },
    {
     "name": "stdout",
     "output_type": "stream",
     "text": [
      "Finished download, copying /tmp/tmp0ck1aiw5 to cache at /home/sliceruser/.scispacy/datasets/37bc06bb7ce30de7251db5f5cbac788998e33b3984410caed2d0083187e01d38.f0994c1b61cc70d0eb96dea4947dddcb37460fb5ae60975013711228c8fe3fba.tfidf_vectorizer.joblib\n",
      "https://s3-us-west-2.amazonaws.com/ai2-s2-scispacy/data/linkers/2023-04-23/umls/concept_aliases.json not found in cache, downloading to /tmp/tmpxzug31te\n"
     ]
    },
    {
     "name": "stderr",
     "output_type": "stream",
     "text": [
      "100%|██████████| 264M/264M [00:20<00:00, 13.2MiB/s] \n"
     ]
    },
    {
     "name": "stdout",
     "output_type": "stream",
     "text": [
      "Finished download, copying /tmp/tmpxzug31te to cache at /home/sliceruser/.scispacy/datasets/6238f505f56aca33290aab44097f67dd1b88880e3be6d6dcce65e56e9255b7d4.d7f77b1629001b40f1b1bc951f3a890ff2d516fb8fbae3111b236b31b33d6dcf.concept_aliases.json\n",
      "https://s3-us-west-2.amazonaws.com/ai2-s2-scispacy/data/kbs/2023-04-23/umls_2022_ab_cat0129.jsonl not found in cache, downloading to /tmp/tmpjrxx74jj\n"
     ]
    },
    {
     "name": "stderr",
     "output_type": "stream",
     "text": [
      "100%|██████████| 628M/628M [00:56<00:00, 11.7MiB/s]   \n"
     ]
    },
    {
     "name": "stdout",
     "output_type": "stream",
     "text": [
      "Finished download, copying /tmp/tmpjrxx74jj to cache at /home/sliceruser/.scispacy/datasets/d5e593bc2d8adeee7754be423cd64f5d331ebf26272074a2575616be55697632.0660f30a60ad00fffd8bbf084a18eb3f462fd192ac5563bf50940fc32a850a3c.umls_2022_ab_cat0129.jsonl\n",
      "https://s3-us-west-2.amazonaws.com/ai2-s2-scispacy/data/umls_semantic_type_tree.tsv not found in cache, downloading to /tmp/tmpl5p9u_b8\n"
     ]
    },
    {
     "name": "stderr",
     "output_type": "stream",
     "text": [
      "100%|██████████| 4.26k/4.26k [00:00<00:00, 1.58MiB/s]\n"
     ]
    },
    {
     "name": "stdout",
     "output_type": "stream",
     "text": [
      "Finished download, copying /tmp/tmpl5p9u_b8 to cache at /home/sliceruser/.scispacy/datasets/21a1012c532c3a431d60895c509f5b4d45b0f8966c4178b892190a302b21836f.330707f4efe774134872b9f77f0e3208c1d30f50800b3b39a6b8ec21d9adf1b7.umls_semantic_type_tree.tsv\n"
     ]
    }
   ],
   "source": [
    "import spacy\n",
    "from scispacy.linking import EntityLinker\n",
    "from scispacy.abbreviation import AbbreviationDetector\n",
    "nlp = spacy.load(\"en_core_sci_scibert\")\n",
    "\n",
    "nlp.add_pipe(\"scispacy_linker\", config={\"resolve_abbreviations\": True, \"linker_name\": \"umls\"})\n",
    "doc = nlp(example)"
   ]
  },
  {
   "cell_type": "code",
   "execution_count": 24,
   "metadata": {},
   "outputs": [
    {
     "name": "stdout",
     "output_type": "stream",
     "text": [
      "CUI: C0205288, Name: Microscopic (qualifier value)\n",
      "Definition: Too small to be seen except under a microscope.\n",
      "TUI(s): T080\n",
      "Aliases: (total: 3): \n",
      "\t microscopic, Microscopic, Microscopic (qualifier value)\n",
      "CUI: C2827068, Name: Histopathology Result\n",
      "Definition: A finding resulting from the examination of a tissue sample under light or electron microscopy.\n",
      "TUI(s): T033\n",
      "Aliases: (total: 2): \n",
      "\t Microscopic Finding, Histopathologic Result\n",
      "CUI: C0400821, Name: Colitis, Microscopic\n",
      "Definition: A condition characterized by chronic watery DIARRHEA of unknown origin, a normal COLONOSCOPY but abnormal histopathology on BIOPSY. This syndrome was first described in 1980 by Read and associates. Subtypes include COLLAGENOUS COLITIS and LYMPHOCYTIC COLITIS. Both have similar clinical symptoms and are distinguishable only by histology.\n",
      "TUI(s): T047\n",
      "Aliases: (total: 6): \n",
      "\t Colitis, Microscopic, Microscopic colitis, microscopic colitis, Microscopic Colitis, Microscopic colitis (disorder), colitis microscopic\n",
      "CUI: C0181839, Name: Microscopes\n",
      "Definition: An optical instrument that uses a combination of lenses to produce magnified images of very small objects\n",
      "TUI(s): T074\n",
      "Aliases: (total: 8): \n",
      "\t microscope, Microscope Device, microscopes, Microscope, NOS, Microscope, device, Microscopes, Microscope, device (physical object), Microscope\n",
      "CUI: C5400232, Name: Microscopic enteritis\n",
      "Definition: Diagnosis of celiac disease at a later age despite an asymptomatic clinical course. Serologic evidence with minimal histological changes in the intestinal mucosa are noted. The presence of human tissue transglutaminase, endomysial and gliadin antibodies without substantial villous changes follow many years of a seemingly gluten-tolerant diet. Despite an unremarkable clinical course, continued unrestricted gluten intake may predispose to the same sequelae as overt disease.\n",
      "TUI(s): T047\n",
      "Aliases: (total: 4): \n",
      "\t Latent celiac disease, Microscopic enteritis (disorder), Latent coeliac disease, Latent Celiac Disease\n"
     ]
    }
   ],
   "source": [
    "linker = nlp.get_pipe(\"scispacy_linker\")\n",
    "entity = doc.ents[4]\n",
    "for umls_ent in entity._.kb_ents:\n",
    "\tprint(linker.kb.cui_to_entity[umls_ent[0]])"
   ]
  },
  {
   "cell_type": "code",
   "execution_count": 25,
   "metadata": {},
   "outputs": [
    {
     "data": {
      "text/plain": [
       "'RAIT is defined as the systemic administration of 131sodium or potassium iodide ( 131 I) for selective irradiation of thyroid remnants, microscopic DTC or other nonresectable or incompletely resectable DTC, or both purposes. Based on the primary goal of the RAIT, there are two main forms of the procedure.\\nThe first form, radioiodine ablation, is a post-surgical adjuvant modality. It seeks to eliminate thyroid remnants to increase the sensitivity and specificity of follow-up testing for DTC persistence or recurrence, namely, of assays of serum thyroglobulin (Tg) as a tumour marker and of diagnostic whole-body scintigraphy (dxWBS). Ablation also allows sensitive \"post-therapy\" whole-body scintigraphy (rxWBS) that may detect previously occult metastases [15] and serves to treat any microscopic tumour deposits. Ablation, therefore, may reduce long-term morbidity and possibly, mortality [15,20,21]. Ablation success is evaluated 6-12 months after the ablation procedure with current definitions of such success including the following criteria: & on follow-up dxWBS, negative thyroid bed uptake or thyroid bed uptake beneath an arbitrarily set, low threshold, e.g. 0.1%, & absence of detectable thyroid-stimulating hormone-(TSH-) stimulated Tg antibodies has been excluded, & absence of suspicious findings on neck ultrasonography (US) [22,23].\\nThe second form of RAIT, radioiodine treatment of nonresectable or incompletely resectable lesions, e.g. microscopic disease, macroscopic local tumour or lymph node or distant metastases, is performed as curative or palliative therapy either as a component of primary treatment of DTC or to address persistent or recurrent disease.'"
      ]
     },
     "execution_count": 25,
     "metadata": {},
     "output_type": "execute_result"
    }
   ],
   "source": [
    "example"
   ]
  },
  {
   "cell_type": "code",
   "execution_count": 26,
   "metadata": {},
   "outputs": [
    {
     "data": {
      "text/plain": [
       "microscopic"
      ]
     },
     "execution_count": 26,
     "metadata": {},
     "output_type": "execute_result"
    }
   ],
   "source": []
  },
  {
   "cell_type": "code",
   "execution_count": null,
   "metadata": {},
   "outputs": [],
   "source": []
  }
 ],
 "metadata": {
  "kernelspec": {
   "display_name": "Python 3",
   "language": "python",
   "name": "python3"
  },
  "language_info": {
   "codemirror_mode": {
    "name": "ipython",
    "version": 3
   },
   "file_extension": ".py",
   "mimetype": "text/x-python",
   "name": "python",
   "nbconvert_exporter": "python",
   "pygments_lexer": "ipython3",
   "version": "3.10.12"
  }
 },
 "nbformat": 4,
 "nbformat_minor": 2
}
