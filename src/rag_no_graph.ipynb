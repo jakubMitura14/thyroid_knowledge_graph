{
 "cells": [
  {
   "cell_type": "code",
   "execution_count": 5,
   "metadata": {},
   "outputs": [],
   "source": [
    "import os\n",
    "\n",
    "from langchain.chains import RetrievalQA\n",
    "from PyPDF2 import PdfReader\n",
    "from langchain.callbacks.base import BaseCallbackHandler\n",
    "from langchain.text_splitter import RecursiveCharacterTextSplitter\n",
    "from langchain_community.vectorstores import Neo4jVector\n",
    "from langchain_community.chat_models import ChatOllama\n",
    "from langchain_core.documents import Document\n",
    "import os\n",
    "import json\n",
    "from semantic_text_splitter import TextSplitter\n",
    "# load api key lib\n",
    "from dotenv import load_dotenv\n",
    "from langchain_community.embeddings import HuggingFaceBgeEmbeddings\n",
    "from langchain.chains import RetrievalQA\n",
    "from langchain_community.embeddings import OllamaEmbeddings\n",
    "load_dotenv(\".env\")\n",
    "\n",
    "url = \"neo4j://localhost:7687\"\n",
    "# url = \"neo4j://localhost:7474\"\n",
    "username =\"neo4j\"\n",
    "password = \"password\"\n",
    "\n",
    "os.environ[\"NEO4J_URI\"] = url #\"bolt://localhost:7687\"\n",
    "os.environ[\"NEO4J_USERNAME\"] =username # \"neo4j\"\n",
    "os.environ[\"NEO4J_PASSWORD\"] = password #\"password\"\n",
    "\n",
    "\n",
    "url = os.getenv(\"NEO4J_URI\")\n",
    "username = os.getenv(\"NEO4J_USERNAME\")\n",
    "password = os.getenv(\"NEO4J_PASSWORD\")\n",
    "ollama_base_url = os.getenv(\"OLLAMA_BASE_URL\")\n",
    "embedding_model_name = os.getenv(\"EMBEDDING_MODEL\")\n",
    "llm_name = \"medllama2\"#os.getenv(\"LLM\")\n",
    "# Remapping for Langchain Neo4j integration\n",
    "os.environ[\"NEO4J_URL\"] = url\n",
    "\n",
    "# logger = get_logger(__name__)\n",
    "\n",
    "\n",
    "# embeddings, dimension = load_embedding_model(\n",
    "#     embedding_model_name, config={\"ollama_base_url\": ollama_base_url}, logger=logger\n",
    "# )\n",
    "\n",
    "\n",
    "# class StreamHandler(BaseCallbackHandler):\n",
    "#     def __init__(self, container, initial_text=\"\"):\n",
    "#         self.container = container\n",
    "#         self.text = initial_text\n",
    "\n",
    "#     def on_llm_new_token(self, token: str, **kwargs) -> None:\n",
    "#         self.text += token\n",
    "#         self.container.markdown(self.text)\n",
    "\n",
    "\n",
    "# llm = load_llm(llm_name, logger=logger, config={\"ollama_base_url\": ollama_base_url})\n",
    "\n",
    "\n",
    "embeddings = OllamaEmbeddings(\n",
    "             model=\"medllama2\"\n",
    "        )\n",
    "\n",
    "max_characters = 100\n",
    "# Optionally can also have the splitter not trim whitespace for you\n",
    "splitter = TextSplitter()\n",
    "\n",
    "# Document(page_content=sect['text'])\n",
    "\n",
    "folder_path = \"/workspaces/thyroid_knowledge_graph/preprocessed\"\n",
    "file_paths = []\n",
    "\n",
    "for root, dirs, files in os.walk(folder_path):\n",
    "    for file in files:\n",
    "        file_path = os.path.join(root, file)\n",
    "        file_paths.append(file_path)\n",
    "\n",
    "res=[]\n",
    "for file_path in file_paths:\n",
    "    with open(file_path, 'r') as file:\n",
    "        data = json.load(file)\n",
    "        sections= data['sections']\n",
    "        for sect in sections:\n",
    "            # res.append(sect['text'])\n",
    "            for chunk in splitter.chunks(sect['text'], max_characters):\n",
    "\n",
    "                res.append(chunk)\n",
    "\n",
    "llm_med = ChatOllama(model=\"medllama2\")\n",
    "\n",
    "\n"
   ]
  },
  {
   "cell_type": "code",
   "execution_count": 6,
   "metadata": {},
   "outputs": [
    {
     "data": {
      "text/plain": [
       "['Thyroid cancer is divided into differentiated thyroid cancer (DTC) and undifferentiated thyroid',\n",
       " 'cancer.',\n",
       " 'In contrast to the undifferentiated thyroid cancer, the vast majority of the DTC accumulates iodine',\n",
       " 'in the tumour cells.',\n",
       " 'Utilizing this characteristic, DTC patients can undergo radioiodine therapy (RIT).',\n",
       " 'RIT of DTC patients provides a very effective therapy with only minimal side effects using standard',\n",
       " 'activities, which is established for more than half a century.',\n",
       " 'Patients are treated according to their tumour stage.',\n",
       " 'Low-risk patients usually undergo a single RIT with activities up to 4 GBq 131 I.',\n",
       " 'High-risk patients undergo at least one or several RIT with higher activities [1,2].',\n",
       " 'While performing RIT with high activities of 131 I, the organs at risk need specific attention.',\n",
       " 'These are the bone marrow and the lung, especially in case of multiple metastases.',\n",
       " 'The amount of 131 I activity and the number of RIT depend on the results of the first RIT: if',\n",
       " 'metastases were detected in the posttherapeutic scan, further RIT may be necessary for an effective',\n",
       " 'treatment of metastases.',\n",
       " 'Therefore, a pretherapeutic diagnostic, which detects iodine avid metastases, is desirable.',\n",
       " 'The same holds for the first RIT for patients with a high likelihood for metastases.',\n",
       " 'The pretherapeutic risk stratification is one of the greatest challenges in treating DTC patients.',\n",
       " 'Although the overall prognosis for the most DTC patients is excellent [3], unfortunately, some DTC',\n",
       " 'patients suffer from recurrences or persistent disease. These patients have already undergone RIT.',\n",
       " 'In cases of recurrent or persistent disease, the cancer cells often show less up to none radioiodine',\n",
       " 'uptake.',\n",
       " 'Patients with low or missing radioiodine uptake would not or would only slightly benefit from an',\n",
       " 'additional RIT [4].',\n",
       " 'Therefore, the knowledge of the localization and the radioiodine uptake level of lesions have great',\n",
       " 'influence on therapy decision and the amount of therapeutic activity.',\n",
       " 'Pretherapeutic imaging of DTC patients can be performed with different radioiodine isotopes and the',\n",
       " 'corresponding imaging modalities. 131 I as diagnostic isotope is used since decades.',\n",
       " 'Usually, activities up to 185 MBq 131 I are administered [5].',\n",
       " 'Another radioiodine isotope for pretherapeutic imaging is 123 I, which is hardly used due to its']"
      ]
     },
     "execution_count": 6,
     "metadata": {},
     "output_type": "execute_result"
    }
   ],
   "source": [
    "chunks = res[0:30]\n",
    "chunks\n"
   ]
  },
  {
   "cell_type": "code",
   "execution_count": 7,
   "metadata": {},
   "outputs": [],
   "source": [
    "# Store the chunks part in db (vector)\n",
    "vectorstore = Neo4jVector.from_texts(\n",
    "    chunks,\n",
    "    url=url,\n",
    "    username=username,\n",
    "    password=password,\n",
    "    embedding=embeddings,\n",
    "    index_name=\"pdf_bot\",\n",
    "    node_label=\"PdfBotChunk\",\n",
    "    pre_delete_collection=True,  # Delete existing PDF data\n",
    ")\n"
   ]
  },
  {
   "cell_type": "code",
   "execution_count": 9,
   "metadata": {},
   "outputs": [
    {
     "data": {
      "text/plain": [
       "\"RIT stands for Radioimmunotherapy and it's a treatment that combines radiation with immune system to fight cancer cells. It can be used in cases where the patient has recurrences or persistent disease after previous treatments, and they have already undergone radioiodine therapy. However, I am not sure what specific situation you are referring to and it's always best to consult a medical professional for more information.\\n\\nThe user is asking about Radioimmunotherapy (RIT), which is a treatment that combines radiation with the immune system to fight cancer cells. RIT is used in cases where patients have recurrences or persistent disease after previous treatments, and they have already undergone radioiodine therapy.\""
      ]
     },
     "execution_count": 9,
     "metadata": {},
     "output_type": "execute_result"
    }
   ],
   "source": [
    "vector_qa = RetrievalQA.from_chain_type(\n",
    "    llm=llm_med,\n",
    "    chain_type=\"stuff\",\n",
    "    retriever=vectorstore.as_retriever()\n",
    ")\n"
   ]
  },
  {
   "cell_type": "code",
   "execution_count": 10,
   "metadata": {},
   "outputs": [
    {
     "data": {
      "text/plain": [
       "\"While I am familiar with the topic of RIT for thyroid cancer, I'm not sure about the specific case you are referring to. Please provide more context so that I can answer your question accurately.\""
      ]
     },
     "execution_count": 10,
     "metadata": {},
     "output_type": "execute_result"
    }
   ],
   "source": [
    "vector_qa.run(\n",
    "    \"what is RIT\"\n",
    ")"
   ]
  },
  {
   "cell_type": "code",
   "execution_count": null,
   "metadata": {},
   "outputs": [],
   "source": []
  }
 ],
 "metadata": {
  "kernelspec": {
   "display_name": "Python 3",
   "language": "python",
   "name": "python3"
  },
  "language_info": {
   "codemirror_mode": {
    "name": "ipython",
    "version": 3
   },
   "file_extension": ".py",
   "mimetype": "text/x-python",
   "name": "python",
   "nbconvert_exporter": "python",
   "pygments_lexer": "ipython3",
   "version": "3.10.12"
  }
 },
 "nbformat": 4,
 "nbformat_minor": 2
}
