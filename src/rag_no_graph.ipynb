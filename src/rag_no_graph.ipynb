{
 "cells": [
  {
   "cell_type": "code",
   "execution_count": 1,
   "metadata": {},
   "outputs": [],
   "source": [
    "import os\n",
    "\n",
    "from langchain.chains import RetrievalQA\n",
    "from PyPDF2 import PdfReader\n",
    "from langchain.callbacks.base import BaseCallbackHandler\n",
    "from langchain.text_splitter import RecursiveCharacterTextSplitter\n",
    "from langchain_community.vectorstores import Neo4jVector\n",
    "from langchain_community.chat_models import ChatOllama\n",
    "from langchain_core.documents import Document\n",
    "import os\n",
    "import json\n",
    "from semantic_text_splitter import TextSplitter\n",
    "# load api key lib\n",
    "from dotenv import load_dotenv\n",
    "from langchain_community.embeddings import HuggingFaceBgeEmbeddings\n",
    "from langchain.chains import RetrievalQA\n",
    "from langchain_community.embeddings import OllamaEmbeddings\n",
    "from langchain_community.embeddings import HuggingFaceEmbeddings\n",
    "from langchain_community.embeddings import HuggingFaceInferenceAPIEmbeddings\n",
    "from langchain_community.embeddings import HuggingFaceHubEmbeddings\n",
    "embeddings_options=[\"medllama2\",\"huggingface\"]\n",
    "\n",
    "embeddings_name=embeddings_options[0]\n",
    "\n",
    "load_dotenv(\".env\")\n",
    "\n",
    "url = \"neo4j://localhost:7687\"\n",
    "# url = \"neo4j://localhost:7474\"\n",
    "username =\"neo4j\"\n",
    "password = \"password\"\n",
    "\n",
    "os.environ[\"NEO4J_URI\"] = url #\"bolt://localhost:7687\"\n",
    "os.environ[\"NEO4J_USERNAME\"] =username # \"neo4j\"\n",
    "os.environ[\"NEO4J_PASSWORD\"] = password #\"password\"\n",
    "\n",
    "\n",
    "url = os.getenv(\"NEO4J_URI\")\n",
    "username = os.getenv(\"NEO4J_USERNAME\")\n",
    "password = os.getenv(\"NEO4J_PASSWORD\")\n",
    "ollama_base_url = os.getenv(\"OLLAMA_BASE_URL\")\n",
    "embedding_model_name = os.getenv(\"EMBEDDING_MODEL\")\n",
    "llm_name = \"medllama2\"#os.getenv(\"LLM\")\n",
    "# Remapping for Langchain Neo4j integration\n",
    "os.environ[\"NEO4J_URL\"] = url\n",
    "\n",
    "\n",
    "\n",
    "if(embeddings_name==embeddings_options[0]):\n",
    "    embeddings = OllamaEmbeddings(\n",
    "                model=\"medllama2\"\n",
    "            )\n",
    "if(embeddings_name==embeddings_options[1]):\n",
    "    # model = \"sentence-transformers/all-mpnet-base-v2\"\n",
    "    model = \"ncbi/MedCPT-Query-Encoder\"\n",
    "    embeddings = HuggingFaceHubEmbeddings(\n",
    "    model=model,\n",
    "    task=\"embedding\",\n",
    "    huggingfacehub_api_token=\"xxx\",\n",
    ")\n",
    "\n",
    "\n",
    "\n",
    "\n",
    "\n",
    "\n",
    "max_characters = 100\n",
    "# Optionally can also have the splitter not trim whitespace for you\n",
    "splitter = TextSplitter()\n",
    "\n",
    "# Document(page_content=sect['text'])\n",
    "\n",
    "folder_path = \"/workspaces/thyroid_knowledge_graph/preprocessed\"\n",
    "file_paths = []\n",
    "\n",
    "for root, dirs, files in os.walk(folder_path):\n",
    "    for file in files:\n",
    "        file_path = os.path.join(root, file)\n",
    "        file_paths.append(file_path)\n",
    "\n",
    "res=[]\n",
    "for file_path in file_paths:\n",
    "    with open(file_path, 'r') as file:\n",
    "        data = json.load(file)\n",
    "        sections= data['sections']\n",
    "        for sect in sections:\n",
    "            # res.append(sect['text'])\n",
    "            for chunk in splitter.chunks(sect['text'], max_characters):\n",
    "\n",
    "                res.append(chunk)\n",
    "\n",
    "llm_med = ChatOllama(model=\"medllama2\")\n",
    "\n",
    "\n"
   ]
  },
  {
   "cell_type": "code",
   "execution_count": 2,
   "metadata": {},
   "outputs": [
    {
     "data": {
      "text/plain": [
       "OllamaEmbeddings(base_url='http://localhost:11434', model='medllama2', embed_instruction='passage: ', query_instruction='query: ', mirostat=None, mirostat_eta=None, mirostat_tau=None, num_ctx=None, num_gpu=None, num_thread=None, repeat_last_n=None, repeat_penalty=None, temperature=None, stop=None, tfs_z=None, top_k=None, top_p=None, show_progress=False, headers=None, model_kwargs=None)"
      ]
     },
     "execution_count": 2,
     "metadata": {},
     "output_type": "execute_result"
    }
   ],
   "source": [
    "embeddings"
   ]
  },
  {
   "cell_type": "code",
   "execution_count": 3,
   "metadata": {},
   "outputs": [
    {
     "data": {
      "text/plain": [
       "['Thyroid cancer is divided into differentiated thyroid cancer (DTC) and undifferentiated thyroid',\n",
       " 'cancer.']"
      ]
     },
     "execution_count": 3,
     "metadata": {},
     "output_type": "execute_result"
    }
   ],
   "source": [
    "chunks = res[0:2]\n",
    "chunks\n"
   ]
  },
  {
   "cell_type": "code",
   "execution_count": 4,
   "metadata": {},
   "outputs": [],
   "source": [
    "# Store the chunks part in db (vector)\n",
    "\n",
    "vectorstore = Neo4jVector.from_texts(\n",
    "    chunks,\n",
    "    url=url,\n",
    "    username=username,\n",
    "    password=password,\n",
    "    embedding=embeddings,\n",
    "    index_name=\"pdf_bot\",\n",
    "    node_label=\"PdfBotChunk\",\n",
    "    pre_delete_collection=True,  # Delete existing PDF data\n",
    ")\n"
   ]
  },
  {
   "cell_type": "code",
   "execution_count": 5,
   "metadata": {},
   "outputs": [],
   "source": [
    "vector_qa = RetrievalQA.from_chain_type(\n",
    "    llm=llm_med,\n",
    "    chain_type=\"stuff\",\n",
    "    retriever=vectorstore.as_retriever()\n",
    ")\n"
   ]
  },
  {
   "cell_type": "code",
   "execution_count": 6,
   "metadata": {},
   "outputs": [
    {
     "name": "stderr",
     "output_type": "stream",
     "text": [
      "/usr/local/lib/python3.10/dist-packages/langchain_core/_api/deprecation.py:117: LangChainDeprecationWarning: The function `run` was deprecated in LangChain 0.1.0 and will be removed in 0.2.0. Use invoke instead.\n",
      "  warn_deprecated(\n"
     ]
    }
   ],
   "source": [
    "vector_qa.run(\n",
    "    \"what is RIT\"\n",
    ")"
   ]
  },
  {
   "cell_type": "code",
   "execution_count": null,
   "metadata": {},
   "outputs": [],
   "source": []
  }
 ],
 "metadata": {
  "kernelspec": {
   "display_name": "Python 3",
   "language": "python",
   "name": "python3"
  },
  "language_info": {
   "codemirror_mode": {
    "name": "ipython",
    "version": 3
   },
   "file_extension": ".py",
   "mimetype": "text/x-python",
   "name": "python",
   "nbconvert_exporter": "python",
   "pygments_lexer": "ipython3",
   "version": "3.10.12"
  }
 },
 "nbformat": 4,
 "nbformat_minor": 2
}
